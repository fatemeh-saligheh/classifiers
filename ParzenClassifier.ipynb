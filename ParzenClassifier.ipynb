{
 "cells": [
  {
   "cell_type": "code",
   "execution_count": 48,
   "metadata": {},
   "outputs": [],
   "source": [
    "import pandas as pd\n",
    "import numpy as np\n",
    "\n",
    "#reading data\n",
    "attNames = [\"a\", \"b\", \"c\", \"d\", \"e\", \"f\", \"g\", \"h\", \"i\",\"j\",\"k\",\"l\",\"m\",\"n\",\"o\",\"p\"]\n",
    "FIELD_NAMES = attNames + [\"Class\"]\n",
    "\n",
    "trainData = pd.read_csv('pendigits.tra', names=FIELD_NAMES)\n",
    "testData = pd.read_csv('pendigits.tes', names=FIELD_NAMES)"
   ]
  },
  {
   "cell_type": "code",
   "execution_count": 49,
   "metadata": {},
   "outputs": [],
   "source": [
    "def parzenClassify(trainData,xtest, h=1):\n",
    "    kq = 0\n",
    "#     print(xtest)\n",
    "    features = xtest.shape[0] - 1\n",
    "    neighbours = []\n",
    "    for _, item in trainData.iterrows():\n",
    "#         print(item)\n",
    "        x = []\n",
    "        for i in range(features):\n",
    "            x.append((xtest[i] - item[i])/h)\n",
    "        flag = Rectangular_window_function(x)\n",
    "        if(flag==1):\n",
    "            neighbours.append(item[\"Class\"])\n",
    "    j1 = []\n",
    "    j2 = []\n",
    "    label = []\n",
    "    if(len(neighbours) != 0):\n",
    "        for n1 in range(0,len(neighbours)):\n",
    "            u = 0\n",
    "            if n1 not in label:\n",
    "                label.append(n1)\n",
    "                for n2 in range(1,len(neighbours)):\n",
    "                    if neighbours[n1]==neighbours[n2] and n1 != n2:\n",
    "                        u += 1\n",
    "                j1.append(neighbours[n1])\n",
    "                j2.append(u)\n",
    "        index = j2.index(max(j2))\n",
    "        kq = max(j2)\n",
    "        classi = j1[index]\n",
    "        px = (kq / len(trainData)) / (h**features)\n",
    "    else:\n",
    "        classi = -1\n",
    "        px = 0.0\n",
    "    return classi,px\n"
   ]
  },
  {
   "cell_type": "code",
   "execution_count": 50,
   "metadata": {},
   "outputs": [],
   "source": [
    "def Rectangular_window_function(x):\n",
    "    for f in x:\n",
    "        if np.abs(f) > (1/2):\n",
    "            return 0\n",
    "    return 1"
   ]
  },
  {
   "cell_type": "code",
   "execution_count": 56,
   "metadata": {},
   "outputs": [
    {
     "name": "stdout",
     "output_type": "stream",
     "text": [
      "hi\n",
      "hi\n",
      "hi\n"
     ]
    },
    {
     "name": "stderr",
     "output_type": "stream",
     "text": [
      "C:\\Users\\Fatemeh Saligheh\\Anaconda3\\lib\\site-packages\\ipykernel_launcher.py:30: RuntimeWarning: divide by zero encountered in true_divide\n"
     ]
    },
    {
     "name": "stdout",
     "output_type": "stream",
     "text": [
      "hi\n"
     ]
    },
    {
     "data": {
      "image/png": "[encoded data removed]",
      "text/plain": [
       "<Figure size 432x288 with 1 Axes>"
      ]
     },
     "metadata": {
      "needs_background": "light"
     },
     "output_type": "display_data"
    }
   ],
   "source": [
    "from sklearn.metrics import accuracy_score\n",
    "def predict(h):\n",
    "    i= 0\n",
    "    ypred = []\n",
    "    for _, row in testData.iterrows():\n",
    "        i+=1\n",
    "        c,p = parzenClassify(trainData,row,h)\n",
    "        ypred.append(c)\n",
    "        if(i==100):\n",
    "            break\n",
    "    ytrue = testData[\"Class\"][:100]\n",
    "    return accuracy_score(ytrue, ypred)\n",
    "\n",
    "\n",
    "# importing the required modules \n",
    "import matplotlib.pyplot as plt \n",
    "import numpy as np \n",
    "  \n",
    "# setting the x - coordinates \n",
    "x = np.arange(90, 110, 5) \n",
    "# setting the corresponding y - coordinates \n",
    "y = []\n",
    "for j in x:\n",
    "    print(\"hi\")\n",
    "    y.append(predict(j))\n",
    "# potting the points \n",
    "plt.plot(x, y) \n",
    "  \n",
    "# function to show the plot \n",
    "plt.show() "
   ]
  },
  {
   "cell_type": "code",
   "execution_count": 9,
   "metadata": {},
   "outputs": [
    {
     "data": {
      "text/plain": [
       "0.84"
      ]
     },
     "execution_count": 9,
     "metadata": {},
     "output_type": "execute_result"
    }
   ],
   "source": [
    "#accuracy rate for my implemented classifier\n",
    "from sklearn.metrics import accuracy_score\n",
    "ytrue = testData[\"Class\"][:100]\n",
    "accuracy_score(ytrue, ypred)"
   ]
  },
  {
   "cell_type": "code",
   "execution_count": 10,
   "metadata": {},
   "outputs": [
    {
     "data": {
      "text/plain": [
       "array([[16,  0,  0,  0,  0,  0,  0,  0,  0,  0],\n",
       "       [ 0,  4,  5,  0,  0,  0,  1,  1,  0,  0],\n",
       "       [ 0,  0,  6,  0,  0,  0,  0,  0,  0,  0],\n",
       "       [ 0,  0,  0,  7,  0,  0,  0,  0,  0,  1],\n",
       "       [ 0,  0,  0,  0,  8,  0,  0,  0,  0,  0],\n",
       "       [ 0,  0,  0,  0,  0,  4,  0,  0,  0,  2],\n",
       "       [ 0,  0,  0,  0,  0,  0,  6,  0,  0,  0],\n",
       "       [ 0,  2,  1,  0,  0,  0,  0,  4,  0,  0],\n",
       "       [ 0,  0,  0,  0,  0,  1,  0,  0, 16,  0],\n",
       "       [ 0,  0,  0,  2,  0,  0,  0,  0,  0, 13]], dtype=int64)"
      ]
     },
     "execution_count": 10,
     "metadata": {},
     "output_type": "execute_result"
    }
   ],
   "source": [
    "#confusion matrix for my implemented classifier\n",
    "from sklearn.metrics import confusion_matrix\n",
    "confusion_matrix(ytrue, ypred)"
   ]
  },
  {
   "cell_type": "code",
   "execution_count": null,
   "metadata": {},
   "outputs": [],
   "source": [
    "def Rectangular_window_function(x):\n",
    "    for f in x:\n",
    "        if np.abs(f) > (1/2):\n",
    "            return 0\n",
    "    return 1"
   ]
  },
  {
   "cell_type": "code",
   "execution_count": 25,
   "metadata": {},
   "outputs": [
    {
     "data": {
      "text/plain": [
       "RadiusNeighborsClassifier(algorithm='auto', leaf_size=30, metric='minkowski',\n",
       "             metric_params=None, n_jobs=None, outlier_label=None, p=2,\n",
       "             radius=100, weights='uniform')"
      ]
     },
     "execution_count": 25,
     "metadata": {},
     "output_type": "execute_result"
    }
   ],
   "source": [
    "from sklearn.neighbors import RadiusNeighborsClassifier\n",
    "neigh = RadiusNeighborsClassifier(radius=100)\n",
    "neigh.fit(trainData[attNames], trainData[\"Class\"])"
   ]
  },
  {
   "cell_type": "code",
   "execution_count": 45,
   "metadata": {},
   "outputs": [],
   "source": [
    "i= 0\n",
    "y_pred = []\n",
    "for _, row in testData.iterrows():\n",
    "    y_pred.append(neigh.predict([row[attNames]])[0])"
   ]
  },
  {
   "cell_type": "code",
   "execution_count": 46,
   "metadata": {},
   "outputs": [
    {
     "data": {
      "text/plain": [
       "0.7790165809033733"
      ]
     },
     "execution_count": 46,
     "metadata": {},
     "output_type": "execute_result"
    }
   ],
   "source": [
    "#accuracy rate for using sklearn\n",
    "from sklearn.metrics import accuracy_score\n",
    "y_true = testData[\"Class\"]\n",
    "accuracy_score(y_true, y_pred)"
   ]
  },
  {
   "cell_type": "code",
   "execution_count": 47,
   "metadata": {},
   "outputs": [
    {
     "data": {
      "text/plain": [
       "array([[342,   0,   0,   0,   0,   0,  18,   0,   2,   1],\n",
       "       [  0, 132, 153,  20,   1,  37,  17,   4,   0,   0],\n",
       "       [  0,   3, 358,   0,   0,   0,   0,   3,   0,   0],\n",
       "       [  0,   3,   0, 332,   0,   0,   0,   0,   0,   1],\n",
       "       [  0,   0,   0,   0, 336,   2,  25,   0,   0,   1],\n",
       "       [  0,   0,   0,  98,   0, 181,  24,   0,   0,  32],\n",
       "       [  0,   0,   0,   0,   0,   0, 336,   0,   0,   0],\n",
       "       [  0,  53, 113,  12,   2,   2,   1, 181,   0,   0],\n",
       "       [  7,   0,   0,   0,   0,  14,   0,   2, 313,   0],\n",
       "       [  0,   9,   0,  94,  13,   5,   0,   0,   1, 214]], dtype=int64)"
      ]
     },
     "execution_count": 47,
     "metadata": {},
     "output_type": "execute_result"
    }
   ],
   "source": [
    "#confusion matrix for using sklearn\n",
    "from sklearn.metrics import confusion_matrix\n",
    "confusion_matrix(y_true, y_pred)"
   ]
  },
  {
   "cell_type": "code",
   "execution_count": null,
   "metadata": {},
   "outputs": [],
   "source": []
  }
 ],
 "metadata": {
  "kernelspec": {
   "display_name": "Python 3",
   "language": "python",
   "name": "python3"
  }
 },
 "nbformat": 4,
 "nbformat_minor": 2
}
