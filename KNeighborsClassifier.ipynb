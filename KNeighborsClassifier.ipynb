{
 "cells": [
  {
   "cell_type": "code",
   "execution_count": 13,
   "metadata": {},
   "outputs": [],
   "source": [
    "import numpy as np\n",
    "import matplotlib.pyplot as plt\n",
    "import pandas as pd\n",
    "\n",
    "#reading data\n",
    "attNames = [\"a\", \"b\", \"c\", \"d\", \"e\", \"f\", \"g\", \"h\", \"i\",\"j\",\"k\",\"l\",\"m\",\"n\",\"o\",\"p\"]\n",
    "FIELD_NAMES = attNames + [\"Class\"]\n",
    "\n",
    "trainData = pd.read_csv('pendigits.tra', names=FIELD_NAMES)\n",
    "testData = pd.read_csv('pendigits.tes', names=FIELD_NAMES)\n"
   ]
  },
  {
   "cell_type": "code",
   "execution_count": 14,
   "metadata": {},
   "outputs": [],
   "source": [
    "#using sklearn\n",
    "from sklearn.neighbors import KNeighborsClassifier\n",
    "neigh = KNeighborsClassifier(n_neighbors=3)\n",
    "neigh.fit(trainData[attNames],trainData['Class'])\n",
    "y_pred = []\n",
    "for _, row in testData.iterrows():\n",
    "    y_pred.append(neigh.predict([row[attNames]]))"
   ]
  },
  {
   "cell_type": "code",
   "execution_count": 15,
   "metadata": {},
   "outputs": [
    {
     "data": {
      "text/plain": [
       "0.9779874213836478"
      ]
     },
     "execution_count": 15,
     "metadata": {},
     "output_type": "execute_result"
    }
   ],
   "source": [
    "#accuracy rate for using sklearn\n",
    "from sklearn.metrics import accuracy_score\n",
    "y_true = testData[\"Class\"]\n",
    "accuracy_score(y_true, y_pred)"
   ]
  },
  {
   "cell_type": "code",
   "execution_count": 16,
   "metadata": {},
   "outputs": [
    {
     "data": {
      "text/plain": [
       "array([[354,   0,   0,   0,   0,   0,   5,   0,   3,   1],\n",
       "       [  0, 350,  11,   0,   1,   0,   0,   2,   0,   0],\n",
       "       [  0,   2, 362,   0,   0,   0,   0,   0,   0,   0],\n",
       "       [  0,   1,   0, 333,   0,   0,   0,   0,   0,   2],\n",
       "       [  0,   0,   0,   0, 354,  10,   0,   0,   0,   0],\n",
       "       [  0,   0,   0,   5,   0, 328,   0,   0,   0,   2],\n",
       "       [  0,   0,   0,   0,   0,   0, 336,   0,   0,   0],\n",
       "       [  0,  10,   1,   0,   0,   0,   1, 351,   1,   0],\n",
       "       [  1,   0,   0,   0,   0,   1,   0,   0, 334,   0],\n",
       "       [  0,   3,   0,   7,   1,   1,   0,   4,   1, 319]], dtype=int64)"
      ]
     },
     "execution_count": 16,
     "metadata": {},
     "output_type": "execute_result"
    }
   ],
   "source": [
    "#confusion matrix for using sklearn\n",
    "from sklearn.metrics import confusion_matrix\n",
    "confusion_matrix(y_true, y_pred)"
   ]
  },
  {
   "cell_type": "code",
   "execution_count": 17,
   "metadata": {},
   "outputs": [],
   "source": [
    "def Classify(nItem, k, Items): \n",
    "    \n",
    "    if(k > len(Items)): \n",
    "        # k is larger than list \n",
    "        # length, abort \n",
    "        return \"k larger than list length\"; \n",
    "    \n",
    "    neighbors = []; \n",
    "  \n",
    "    for _, item in trainData.iterrows(): \n",
    "        \n",
    "        # Find  Distance \n",
    "        distance = EuclideanDistance(nItem, item); \n",
    "  \n",
    "        neighbors.append([distance, item[\"Class\"]])\n",
    "        neighbors = sorted(neighbors)\n",
    "        \n",
    "    count = {}; \n",
    "    for i in range(k): \n",
    "\n",
    "        if(neighbors[i][1] not in count): \n",
    "            count[neighbors[i][1]] = 1; \n",
    "        else: \n",
    "            count[neighbors[i][1]] += 1; \n",
    "\n",
    "    classi = \"\";  \n",
    "    maxi = 0\n",
    "    for key in count.keys(): \n",
    "        \n",
    "        if(count[key] > maxi): \n",
    "            maxi = count[key]; \n",
    "            classi = key; \n",
    "  \n",
    "    return classi; "
   ]
  },
  {
   "cell_type": "code",
   "execution_count": 18,
   "metadata": {},
   "outputs": [],
   "source": [
    "import math\n",
    "def EuclideanDistance(x, y): \n",
    "      \n",
    "    # The sum of the squared  \n",
    "    # differences of the elements \n",
    "    S = 0;  \n",
    "      \n",
    "    for key in x.keys(): \n",
    "        S += math.pow(x[key]-y[key], 2); \n",
    "  \n",
    "    # The square root of the sum \n",
    "    return math.sqrt(S); "
   ]
  },
  {
   "cell_type": "code",
   "execution_count": 34,
   "metadata": {},
   "outputs": [
    {
     "name": "stdout",
     "output_type": "stream",
     "text": [
      "1\n",
      "2\n",
      "3\n",
      "4\n",
      "5\n",
      "6\n",
      "7\n",
      "8\n",
      "9\n",
      "10\n",
      "11\n",
      "12\n",
      "13\n",
      "14\n",
      "15\n",
      "16\n",
      "17\n",
      "18\n",
      "19\n",
      "20\n",
      "21\n",
      "22\n",
      "23\n",
      "24\n",
      "25\n",
      "26\n",
      "27\n",
      "28\n",
      "29\n",
      "30\n",
      "31\n",
      "32\n",
      "33\n",
      "34\n",
      "35\n",
      "36\n",
      "37\n",
      "38\n",
      "39\n",
      "40\n",
      "41\n",
      "42\n",
      "43\n",
      "44\n",
      "45\n",
      "46\n",
      "47\n",
      "48\n",
      "49\n",
      "50\n",
      "51\n",
      "52\n",
      "53\n",
      "54\n",
      "55\n",
      "56\n",
      "57\n",
      "58\n",
      "59\n",
      "60\n",
      "61\n",
      "62\n",
      "63\n",
      "64\n",
      "65\n",
      "66\n",
      "67\n",
      "68\n",
      "69\n",
      "70\n",
      "71\n",
      "72\n",
      "73\n",
      "74\n",
      "75\n",
      "76\n",
      "77\n",
      "78\n",
      "79\n",
      "80\n",
      "81\n",
      "82\n",
      "83\n",
      "84\n",
      "85\n",
      "86\n",
      "87\n",
      "88\n",
      "89\n",
      "90\n",
      "91\n",
      "92\n",
      "93\n",
      "94\n",
      "95\n",
      "96\n",
      "97\n",
      "98\n",
      "99\n",
      "100\n"
     ]
    }
   ],
   "source": [
    "i= 0\n",
    "ypred = []\n",
    "for _, row in testData.iterrows():\n",
    "    i+=1\n",
    "    print(i)\n",
    "    ypred.append(Classify(row,10,trainData))\n",
    "    if(i==100):\n",
    "        break"
   ]
  },
  {
   "cell_type": "code",
   "execution_count": 35,
   "metadata": {},
   "outputs": [
    {
     "data": {
      "text/plain": [
       "0.99"
      ]
     },
     "execution_count": 35,
     "metadata": {},
     "output_type": "execute_result"
    }
   ],
   "source": [
    "#accuracy rate for my implemented classifier\n",
    "from sklearn.metrics import accuracy_score\n",
    "ytrue = testData[\"Class\"][:100]\n",
    "accuracy_score(ytrue, ypred)"
   ]
  },
  {
   "cell_type": "code",
   "execution_count": 28,
   "metadata": {},
   "outputs": [
    {
     "data": {
      "text/plain": [
       "array([[16,  0,  0,  0,  0,  0,  0,  0,  0,  0],\n",
       "       [ 0, 11,  0,  0,  0,  0,  0,  0,  0,  0],\n",
       "       [ 0,  0,  6,  0,  0,  0,  0,  0,  0,  0],\n",
       "       [ 0,  0,  0,  7,  0,  0,  0,  0,  0,  1],\n",
       "       [ 0,  0,  0,  0,  8,  0,  0,  0,  0,  0],\n",
       "       [ 0,  0,  0,  0,  0,  6,  0,  0,  0,  0],\n",
       "       [ 0,  0,  0,  0,  0,  0,  6,  0,  0,  0],\n",
       "       [ 0,  0,  0,  1,  0,  0,  0,  6,  0,  0],\n",
       "       [ 0,  0,  0,  0,  0,  0,  0,  0, 17,  0],\n",
       "       [ 0,  0,  0,  0,  0,  0,  0,  0,  0, 15]], dtype=int64)"
      ]
     },
     "execution_count": 28,
     "metadata": {},
     "output_type": "execute_result"
    }
   ],
   "source": [
    "#confusion matrix for my implemented classifier\n",
    "from sklearn.metrics import confusion_matrix\n",
    "confusion_matrix(ytrue, ypred)"
   ]
  },
  {
   "cell_type": "code",
   "execution_count": null,
   "metadata": {},
   "outputs": [],
   "source": []
  }
 ],
 "metadata": {
  "kernelspec": {
   "display_name": "Python 3",
   "language": "python",
   "name": "python3"
  },
  "language_info": {
   "codemirror_mode": {
    "name": "ipython",
    "version": 3
   },
   "file_extension": ".py",
   "mimetype": "text/x-python",
   "name": "python",
   "nbconvert_exporter": "python",
   "pygments_lexer": "ipython3",
   "version": "3.7.1"
  }
 },
 "nbformat": 4,
 "nbformat_minor": 2
}
